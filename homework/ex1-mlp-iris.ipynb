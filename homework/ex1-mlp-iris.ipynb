{
  "nbformat": 4,
  "nbformat_minor": 0,
  "metadata": {
    "kernelspec": {
      "display_name": "tensorflow",
      "language": "python",
      "name": "tensorflow"
    },
    "language_info": {
      "codemirror_mode": {
        "name": "ipython",
        "version": 3
      },
      "file_extension": ".py",
      "mimetype": "text/x-python",
      "name": "python",
      "nbconvert_exporter": "python",
      "pygments_lexer": "ipython3",
      "version": "3.6.8"
    },
    "colab": {
      "name": "ex1-mlp-iris.ipynb",
      "provenance": []
    }
  },
  "cells": [
    {
      "cell_type": "markdown",
      "metadata": {
        "id": "WVncMa6Tov23",
        "colab_type": "text"
      },
      "source": [
        "<center><div style=\"direction:rtl;font-family:B Lotus, B Nazanin, Tahoma\">به نام خدا</div></center>\n",
        "\n",
        "<h1><center><div style=\"direction:rtl;font-family:B Lotus, B Nazanin, Tahoma\">تمرین عملی 1: طبقه بندی با شبکه های تمام متصل روی مجموعه داده IRIS</div></center></h1>"
      ]
    },
    {
      "cell_type": "markdown",
      "metadata": {
        "id": "gkMEioFUov26",
        "colab_type": "text"
      },
      "source": [
        "## <div style=\"direction:rtl;text-align:right;font-family:B Lotus, B Nazanin, Tahoma\">صورت مساله</div>\n",
        "\n",
        "\n",
        "<div style=\"direction:rtl;text-align:right;font-family:Tahoma\">\n",
        "در اولین جلسه کارگاه طبقه بندی با شبکه های تمام متصل را دیدیم.\n",
        "<br>\n",
        "توصیه می‌شود حتما نوت بوک‌های زیر را قبل از این تمرین مرور کنید:\n",
        "</div>\n",
        "\n",
        "[04_a Gentle Introduction to Keras - Simple neural network(mlp).ipynb](https://nbviewer.jupyter.org/github/alireza-akhavan/SRU-deeplearning-workshop/blob/master/04_a%20Gentle%20Introduction%20to%20Keras%20-%20Simple%20neural%20network%28mlp%29.ipynb)\n",
        "\n",
        "[05_Dropout.ipynb](https://nbviewer.jupyter.org/github/alireza-akhavan/SRU-deeplearning-workshop/blob/master/05_Dropout.ipynb)\n",
        "\n",
        "<div style=\"direction:rtl;text-align:right;font-family:Tahoma\">\n",
        "در این جلسه با داده های تصویری آشنا شدیم. اما در این تمرین برای اینکه بدانیم کاربرد این مباحث در مسائل غیر تصویری نیز هست  از مجموعه داده ی ساختار یافتهiris  شامل 4 ویژگی برای طول و عرض کاسبرگ و گلبرگ استفاده خواهیم کرد که بتوانیم بر اساس این ویژگی ها نوع گل را از 3 کلاس متفاوت تشخیص دهیم.\n",
        "</div>"
      ]
    },
    {
      "cell_type": "markdown",
      "metadata": {
        "id": "_7K74PPxov27",
        "colab_type": "text"
      },
      "source": [
        "## <div style=\"direction:rtl;text-align:right;font-family:B Lotus, B Nazanin, Tahoma\">لود کتابخانه های مورد نیاز </div>\n",
        "<div style=\"direction:rtl;text-align:right;font-family:Tahoma\">\n",
        "کتابخانه های مورد نیاز این تمرین لود شده اند\n",
        "<br>\n",
        "در صورت نیاز میتوانید کتابخانه های بیشتری لود کنید:\n",
        "</div>"
      ]
    },
    {
      "cell_type": "code",
      "metadata": {
        "id": "lJFyvYSUov29",
        "colab_type": "code",
        "colab": {
          "base_uri": "https://localhost:8080/",
          "height": 80
        },
        "outputId": "18b625ef-430c-41e1-85d4-33ede492ad9c"
      },
      "source": [
        "import numpy as np\n",
        "import keras\n",
        "from sklearn.datasets import load_iris\n",
        "from sklearn.model_selection import train_test_split\n",
        "from keras.models import Sequential\n",
        "from keras.layers import Dense, Dropout\n",
        "from keras.optimizers import Adam"
      ],
      "execution_count": 3,
      "outputs": [
        {
          "output_type": "stream",
          "text": [
            "Using TensorFlow backend.\n"
          ],
          "name": "stderr"
        },
        {
          "output_type": "display_data",
          "data": {
            "text/html": [
              "<p style=\"color: red;\">\n",
              "The default version of TensorFlow in Colab will soon switch to TensorFlow 2.x.<br>\n",
              "We recommend you <a href=\"https://www.tensorflow.org/guide/migrate\" target=\"_blank\">upgrade</a> now \n",
              "or ensure your notebook will continue to use TensorFlow 1.x via the <code>%tensorflow_version 1.x</code> magic:\n",
              "<a href=\"https://colab.research.google.com/notebooks/tensorflow_version.ipynb\" target=\"_blank\">more info</a>.</p>\n"
            ],
            "text/plain": [
              "<IPython.core.display.HTML object>"
            ]
          },
          "metadata": {
            "tags": []
          }
        }
      ]
    },
    {
      "cell_type": "markdown",
      "metadata": {
        "id": "3LrDa43_ov3C",
        "colab_type": "text"
      },
      "source": [
        "<div style=\"direction:rtl;text-align:right;font-family:Tahoma\">\n",
        "در این تمرین میخواهیم از مجموعه داده iris استفاده کنیم.\n",
        "<br>\n",
        "توضیحات این مجموعه داده در سایت آن موجود است:\n",
        "</div>\n",
        "\n",
        "https://archive.ics.uci.edu/ml/datasets/iris\n",
        "\n",
        "\n",
        "<div style=\"direction:rtl;text-align:right;font-family:Tahoma\">\n",
        "ویژگی ها و کلاس های این مجموعه داده به شرح زیر است:\n",
        "</div>\n",
        "\n",
        "Attribute Information:\n",
        "\n",
        "1. sepal length in cm\n",
        "2. sepal width in cm\n",
        "3. petal length in cm\n",
        "4. petal width in cm\n",
        "\n",
        "class:\n",
        "\n",
        "    Iris Setosa\n",
        "    Iris Versicolour\n",
        "    Iris Virginica\n",
        "\n",
        "<div style=\"direction:rtl;text-align:right;font-family:Tahoma\">\n",
        "این دیتاست در کتابخانه sklearn موجود است\n",
        "<br>\n",
        "در قطعه کد زیر ویژگی ها را در x و برچسب یا labelهای متناظر را در y لود شده است.\n",
        "</div>"
      ]
    },
    {
      "cell_type": "code",
      "metadata": {
        "id": "eLLdpIMQov3E",
        "colab_type": "code",
        "colab": {}
      },
      "source": [
        "iris_data = load_iris() # load the iris dataset\n",
        "x = iris_data.data\n",
        "y = iris_data.target.reshape(-1, 1) # Convert data to a single column"
      ],
      "execution_count": 0,
      "outputs": []
    },
    {
      "cell_type": "markdown",
      "metadata": {
        "id": "M41yoV4xov3I",
        "colab_type": "text"
      },
      "source": [
        "# <div style=\"direction:rtl;text-align:right;font-family:B Lotus, B Nazanin, Tahoma\">سوال 1:</div>\n",
        "<div style=\"direction:rtl;text-align:right;font-family:Tahoma\">\n",
        "برچسب یا label های ما در حال حاضر عددی است.\n",
        "<br>\n",
        "این اعداد 0 تا 2 هستند و به عبارتی 3 حالت مختلف دارند.\n",
        "<br>\n",
        "این برچسب ها را به فرمت one-hot تبدیل کنید و خروجی را مجدد در y بریزید.\n",
        "\n",
        "<br>\n",
        "<b>راهنمایی: </b>\n",
        "از تابع keras.utils.to_categorical استفاده کنید.\n",
        "</div>"
      ]
    },
    {
      "cell_type": "code",
      "metadata": {
        "id": "YKoJFBSLov3J",
        "colab_type": "code",
        "colab": {}
      },
      "source": [
        "y = keras.utils.to_categorical(y,3)"
      ],
      "execution_count": 0,
      "outputs": []
    },
    {
      "cell_type": "markdown",
      "metadata": {
        "id": "WQq78_U1ov3N",
        "colab_type": "text"
      },
      "source": [
        "<div style=\"direction:rtl;text-align:right;font-family:Tahoma\">\n",
        "در زیر داده ها  به داده های test و train تقسیم شده است:\n",
        "</div>"
      ]
    },
    {
      "cell_type": "code",
      "metadata": {
        "id": "m5Vxt0Tbov3O",
        "colab_type": "code",
        "colab": {}
      },
      "source": [
        "# Split the data for training and testing\n",
        "train_x, test_x, train_y, test_y = train_test_split(x, y, test_size=0.20)"
      ],
      "execution_count": 0,
      "outputs": []
    },
    {
      "cell_type": "markdown",
      "metadata": {
        "id": "r0-MI4OUov3T",
        "colab_type": "text"
      },
      "source": [
        "# <div style=\"direction:rtl;text-align:right;font-family:B Lotus, B Nazanin, Tahoma\">سوال 2:</div>\n",
        "<div style=\"direction:rtl;text-align:right;font-family:Tahoma\">\n",
        "یک شبکه با دو hidden-layer در هر لایه 10 نوران و تابع فعالیت relu بسازید. یک لایه Dropout با نرخ 0.5 در لایه آخر ماقبل softmax نیز اضافه کنید.\n",
        "</div>"
      ]
    },
    {
      "cell_type": "code",
      "metadata": {
        "id": "ikFbV0iHov3U",
        "colab_type": "code",
        "colab": {
          "base_uri": "https://localhost:8080/",
          "height": 224
        },
        "outputId": "76119bd9-7f48-4168-c5b3-2de4d7d0fe0d"
      },
      "source": [
        "# Build the model\n",
        "model = Sequential()\n",
        "model.add(Dense(10, activation='relu', input_dim=4))\n",
        "model.add(Dense(10, activation='relu', input_dim=25))\n",
        "model.add(Dropout(0.5))\n",
        "model.add(Dense(3, activation='softmax'))"
      ],
      "execution_count": 7,
      "outputs": [
        {
          "output_type": "stream",
          "text": [
            "WARNING:tensorflow:From /usr/local/lib/python3.6/dist-packages/keras/backend/tensorflow_backend.py:66: The name tf.get_default_graph is deprecated. Please use tf.compat.v1.get_default_graph instead.\n",
            "\n",
            "WARNING:tensorflow:From /usr/local/lib/python3.6/dist-packages/keras/backend/tensorflow_backend.py:541: The name tf.placeholder is deprecated. Please use tf.compat.v1.placeholder instead.\n",
            "\n",
            "WARNING:tensorflow:From /usr/local/lib/python3.6/dist-packages/keras/backend/tensorflow_backend.py:4432: The name tf.random_uniform is deprecated. Please use tf.random.uniform instead.\n",
            "\n",
            "WARNING:tensorflow:From /usr/local/lib/python3.6/dist-packages/keras/backend/tensorflow_backend.py:148: The name tf.placeholder_with_default is deprecated. Please use tf.compat.v1.placeholder_with_default instead.\n",
            "\n",
            "WARNING:tensorflow:From /usr/local/lib/python3.6/dist-packages/keras/backend/tensorflow_backend.py:3733: calling dropout (from tensorflow.python.ops.nn_ops) with keep_prob is deprecated and will be removed in a future version.\n",
            "Instructions for updating:\n",
            "Please use `rate` instead of `keep_prob`. Rate should be set to `rate = 1 - keep_prob`.\n"
          ],
          "name": "stdout"
        }
      ]
    },
    {
      "cell_type": "code",
      "metadata": {
        "id": "Hj3BjJjXov3a",
        "colab_type": "code",
        "colab": {
          "base_uri": "https://localhost:8080/",
          "height": 289
        },
        "outputId": "401a3b04-ad9c-4204-dd18-5fb9eca54f7f"
      },
      "source": [
        "model.summary()"
      ],
      "execution_count": 8,
      "outputs": [
        {
          "output_type": "stream",
          "text": [
            "Model: \"sequential_1\"\n",
            "_________________________________________________________________\n",
            "Layer (type)                 Output Shape              Param #   \n",
            "=================================================================\n",
            "dense_1 (Dense)              (None, 10)                50        \n",
            "_________________________________________________________________\n",
            "dense_2 (Dense)              (None, 10)                110       \n",
            "_________________________________________________________________\n",
            "dropout_1 (Dropout)          (None, 10)                0         \n",
            "_________________________________________________________________\n",
            "dense_3 (Dense)              (None, 3)                 33        \n",
            "=================================================================\n",
            "Total params: 193\n",
            "Trainable params: 193\n",
            "Non-trainable params: 0\n",
            "_________________________________________________________________\n"
          ],
          "name": "stdout"
        }
      ]
    },
    {
      "cell_type": "markdown",
      "metadata": {
        "id": "3jAbf3Bjov3e",
        "colab_type": "text"
      },
      "source": [
        "<div style=\"direction:rtl;text-align:right;font-family:Tahoma\">در زیر مدل کامپایل شده است.</div>"
      ]
    },
    {
      "cell_type": "code",
      "metadata": {
        "id": "Sv5CyZgIov3f",
        "colab_type": "code",
        "colab": {
          "base_uri": "https://localhost:8080/",
          "height": 85
        },
        "outputId": "c6118269-e676-470a-9940-47222f828446"
      },
      "source": [
        "# Adam optimizer with learning rate of 0.001\n",
        "optimizer = Adam(lr=0.001)\n",
        "model.compile(optimizer, loss='categorical_crossentropy', metrics=['accuracy'])"
      ],
      "execution_count": 9,
      "outputs": [
        {
          "output_type": "stream",
          "text": [
            "WARNING:tensorflow:From /usr/local/lib/python3.6/dist-packages/keras/optimizers.py:793: The name tf.train.Optimizer is deprecated. Please use tf.compat.v1.train.Optimizer instead.\n",
            "\n",
            "WARNING:tensorflow:From /usr/local/lib/python3.6/dist-packages/keras/backend/tensorflow_backend.py:3576: The name tf.log is deprecated. Please use tf.math.log instead.\n",
            "\n"
          ],
          "name": "stdout"
        }
      ]
    },
    {
      "cell_type": "markdown",
      "metadata": {
        "id": "tDTBilizov3k",
        "colab_type": "text"
      },
      "source": [
        "# <div style=\"direction:rtl;text-align:right;font-family:B Lotus, B Nazanin, Tahoma\">سوال 3:</div>\n",
        "<div style=\"direction:rtl;text-align:right;font-family:Tahoma\">\n",
        "مدل را با  batch_size=5 و تعداد 200 ایپاک آموزش دهید.\n",
        "<br>\n",
        "<b>راهنمایی: </b>\n",
        "از تابع model.fit استفاده کنید.\n",
        "</div>"
      ]
    },
    {
      "cell_type": "code",
      "metadata": {
        "id": "svn9xEgeov3l",
        "colab_type": "code",
        "colab": {
          "base_uri": "https://localhost:8080/",
          "height": 1000
        },
        "outputId": "e1ab824a-f845-4f2f-ce7e-01a5b1076b53"
      },
      "source": [
        "# Train the model\n",
        "model.fit(train_x, train_y,\n",
        "          epochs=200,\n",
        "          batch_size=5)"
      ],
      "execution_count": 10,
      "outputs": [
        {
          "output_type": "stream",
          "text": [
            "WARNING:tensorflow:From /usr/local/lib/python3.6/dist-packages/tensorflow_core/python/ops/math_grad.py:1424: where (from tensorflow.python.ops.array_ops) is deprecated and will be removed in a future version.\n",
            "Instructions for updating:\n",
            "Use tf.where in 2.0, which has the same broadcast rule as np.where\n",
            "WARNING:tensorflow:From /usr/local/lib/python3.6/dist-packages/keras/backend/tensorflow_backend.py:1033: The name tf.assign_add is deprecated. Please use tf.compat.v1.assign_add instead.\n",
            "\n",
            "WARNING:tensorflow:From /usr/local/lib/python3.6/dist-packages/keras/backend/tensorflow_backend.py:1020: The name tf.assign is deprecated. Please use tf.compat.v1.assign instead.\n",
            "\n",
            "WARNING:tensorflow:From /usr/local/lib/python3.6/dist-packages/keras/backend/tensorflow_backend.py:3005: The name tf.Session is deprecated. Please use tf.compat.v1.Session instead.\n",
            "\n",
            "Epoch 1/200\n",
            "WARNING:tensorflow:From /usr/local/lib/python3.6/dist-packages/keras/backend/tensorflow_backend.py:190: The name tf.get_default_session is deprecated. Please use tf.compat.v1.get_default_session instead.\n",
            "\n",
            "WARNING:tensorflow:From /usr/local/lib/python3.6/dist-packages/keras/backend/tensorflow_backend.py:197: The name tf.ConfigProto is deprecated. Please use tf.compat.v1.ConfigProto instead.\n",
            "\n",
            "WARNING:tensorflow:From /usr/local/lib/python3.6/dist-packages/keras/backend/tensorflow_backend.py:207: The name tf.global_variables is deprecated. Please use tf.compat.v1.global_variables instead.\n",
            "\n",
            "WARNING:tensorflow:From /usr/local/lib/python3.6/dist-packages/keras/backend/tensorflow_backend.py:216: The name tf.is_variable_initialized is deprecated. Please use tf.compat.v1.is_variable_initialized instead.\n",
            "\n",
            "WARNING:tensorflow:From /usr/local/lib/python3.6/dist-packages/keras/backend/tensorflow_backend.py:223: The name tf.variables_initializer is deprecated. Please use tf.compat.v1.variables_initializer instead.\n",
            "\n",
            "120/120 [==============================] - 1s 5ms/step - loss: 2.0080 - acc: 0.4167\n",
            "Epoch 2/200\n",
            "120/120 [==============================] - 0s 273us/step - loss: 1.6172 - acc: 0.4000\n",
            "Epoch 3/200\n",
            "120/120 [==============================] - 0s 263us/step - loss: 1.5148 - acc: 0.4167\n",
            "Epoch 4/200\n",
            "120/120 [==============================] - 0s 244us/step - loss: 1.2884 - acc: 0.4000\n",
            "Epoch 5/200\n",
            "120/120 [==============================] - 0s 245us/step - loss: 1.3841 - acc: 0.3333\n",
            "Epoch 6/200\n",
            "120/120 [==============================] - 0s 276us/step - loss: 1.1858 - acc: 0.4583\n",
            "Epoch 7/200\n",
            "120/120 [==============================] - 0s 244us/step - loss: 1.2237 - acc: 0.3500\n",
            "Epoch 8/200\n",
            "120/120 [==============================] - 0s 257us/step - loss: 1.1164 - acc: 0.3833\n",
            "Epoch 9/200\n",
            "120/120 [==============================] - 0s 233us/step - loss: 1.0792 - acc: 0.3917\n",
            "Epoch 10/200\n",
            "120/120 [==============================] - 0s 258us/step - loss: 1.0611 - acc: 0.4417\n",
            "Epoch 11/200\n",
            "120/120 [==============================] - 0s 271us/step - loss: 1.0628 - acc: 0.4583\n",
            "Epoch 12/200\n",
            "120/120 [==============================] - 0s 293us/step - loss: 1.0579 - acc: 0.4333\n",
            "Epoch 13/200\n",
            "120/120 [==============================] - 0s 248us/step - loss: 1.0092 - acc: 0.5000\n",
            "Epoch 14/200\n",
            "120/120 [==============================] - 0s 297us/step - loss: 1.0171 - acc: 0.5333\n",
            "Epoch 15/200\n",
            "120/120 [==============================] - 0s 275us/step - loss: 1.0101 - acc: 0.5000\n",
            "Epoch 16/200\n",
            "120/120 [==============================] - 0s 254us/step - loss: 1.0015 - acc: 0.5167\n",
            "Epoch 17/200\n",
            "120/120 [==============================] - 0s 248us/step - loss: 1.0123 - acc: 0.4833\n",
            "Epoch 18/200\n",
            "120/120 [==============================] - 0s 265us/step - loss: 0.9726 - acc: 0.5333\n",
            "Epoch 19/200\n",
            "120/120 [==============================] - 0s 256us/step - loss: 0.9786 - acc: 0.5417\n",
            "Epoch 20/200\n",
            "120/120 [==============================] - 0s 256us/step - loss: 0.9651 - acc: 0.4833\n",
            "Epoch 21/200\n",
            "120/120 [==============================] - 0s 300us/step - loss: 1.0016 - acc: 0.4583\n",
            "Epoch 22/200\n",
            "120/120 [==============================] - 0s 264us/step - loss: 0.9375 - acc: 0.5250\n",
            "Epoch 23/200\n",
            "120/120 [==============================] - 0s 278us/step - loss: 0.9961 - acc: 0.4583\n",
            "Epoch 24/200\n",
            "120/120 [==============================] - 0s 264us/step - loss: 0.9295 - acc: 0.5417\n",
            "Epoch 25/200\n",
            "120/120 [==============================] - 0s 268us/step - loss: 0.9289 - acc: 0.5250\n",
            "Epoch 26/200\n",
            "120/120 [==============================] - 0s 254us/step - loss: 0.9934 - acc: 0.4417\n",
            "Epoch 27/200\n",
            "120/120 [==============================] - 0s 239us/step - loss: 0.9285 - acc: 0.5083\n",
            "Epoch 28/200\n",
            "120/120 [==============================] - 0s 248us/step - loss: 0.9765 - acc: 0.4333\n",
            "Epoch 29/200\n",
            "120/120 [==============================] - 0s 242us/step - loss: 0.9476 - acc: 0.4583\n",
            "Epoch 30/200\n",
            "120/120 [==============================] - 0s 253us/step - loss: 0.8375 - acc: 0.6083\n",
            "Epoch 31/200\n",
            "120/120 [==============================] - 0s 299us/step - loss: 0.8988 - acc: 0.5000\n",
            "Epoch 32/200\n",
            "120/120 [==============================] - 0s 258us/step - loss: 0.8524 - acc: 0.5833\n",
            "Epoch 33/200\n",
            "120/120 [==============================] - 0s 252us/step - loss: 0.9353 - acc: 0.4667\n",
            "Epoch 34/200\n",
            "120/120 [==============================] - 0s 264us/step - loss: 0.8915 - acc: 0.5417\n",
            "Epoch 35/200\n",
            "120/120 [==============================] - 0s 253us/step - loss: 0.9237 - acc: 0.4917\n",
            "Epoch 36/200\n",
            "120/120 [==============================] - 0s 267us/step - loss: 0.8458 - acc: 0.5417\n",
            "Epoch 37/200\n",
            "120/120 [==============================] - 0s 265us/step - loss: 0.8253 - acc: 0.5917\n",
            "Epoch 38/200\n",
            "120/120 [==============================] - 0s 266us/step - loss: 0.7883 - acc: 0.6083\n",
            "Epoch 39/200\n",
            "120/120 [==============================] - 0s 268us/step - loss: 0.8092 - acc: 0.6000\n",
            "Epoch 40/200\n",
            "120/120 [==============================] - 0s 259us/step - loss: 0.8359 - acc: 0.5667\n",
            "Epoch 41/200\n",
            "120/120 [==============================] - 0s 279us/step - loss: 0.7903 - acc: 0.6250\n",
            "Epoch 42/200\n",
            "120/120 [==============================] - 0s 269us/step - loss: 0.8238 - acc: 0.5917\n",
            "Epoch 43/200\n",
            "120/120 [==============================] - 0s 308us/step - loss: 0.8590 - acc: 0.5167\n",
            "Epoch 44/200\n",
            "120/120 [==============================] - 0s 271us/step - loss: 0.8157 - acc: 0.5917\n",
            "Epoch 45/200\n",
            "120/120 [==============================] - 0s 287us/step - loss: 0.7991 - acc: 0.5417\n",
            "Epoch 46/200\n",
            "120/120 [==============================] - 0s 266us/step - loss: 0.8461 - acc: 0.5583\n",
            "Epoch 47/200\n",
            "120/120 [==============================] - 0s 268us/step - loss: 0.8603 - acc: 0.5083\n",
            "Epoch 48/200\n",
            "120/120 [==============================] - 0s 274us/step - loss: 0.7748 - acc: 0.5750\n",
            "Epoch 49/200\n",
            "120/120 [==============================] - 0s 268us/step - loss: 0.7794 - acc: 0.5500\n",
            "Epoch 50/200\n",
            "120/120 [==============================] - 0s 279us/step - loss: 0.7633 - acc: 0.5833\n",
            "Epoch 51/200\n",
            "120/120 [==============================] - 0s 248us/step - loss: 0.8538 - acc: 0.5417\n",
            "Epoch 52/200\n",
            "120/120 [==============================] - 0s 252us/step - loss: 0.8358 - acc: 0.5083\n",
            "Epoch 53/200\n",
            "120/120 [==============================] - 0s 273us/step - loss: 0.8360 - acc: 0.5333\n",
            "Epoch 54/200\n",
            "120/120 [==============================] - 0s 272us/step - loss: 0.7572 - acc: 0.6417\n",
            "Epoch 55/200\n",
            "120/120 [==============================] - 0s 263us/step - loss: 0.7810 - acc: 0.5500\n",
            "Epoch 56/200\n",
            "120/120 [==============================] - 0s 267us/step - loss: 0.7483 - acc: 0.6000\n",
            "Epoch 57/200\n",
            "120/120 [==============================] - 0s 277us/step - loss: 0.7700 - acc: 0.5833\n",
            "Epoch 58/200\n",
            "120/120 [==============================] - 0s 278us/step - loss: 0.7737 - acc: 0.5417\n",
            "Epoch 59/200\n",
            "120/120 [==============================] - 0s 294us/step - loss: 0.7798 - acc: 0.6000\n",
            "Epoch 60/200\n",
            "120/120 [==============================] - 0s 366us/step - loss: 0.7819 - acc: 0.5583\n",
            "Epoch 61/200\n",
            "120/120 [==============================] - 0s 259us/step - loss: 0.7504 - acc: 0.5833\n",
            "Epoch 62/200\n",
            "120/120 [==============================] - 0s 273us/step - loss: 0.6768 - acc: 0.6333\n",
            "Epoch 63/200\n",
            "120/120 [==============================] - 0s 261us/step - loss: 0.7372 - acc: 0.6083\n",
            "Epoch 64/200\n",
            "120/120 [==============================] - 0s 254us/step - loss: 0.6863 - acc: 0.6500\n",
            "Epoch 65/200\n",
            "120/120 [==============================] - 0s 263us/step - loss: 0.6798 - acc: 0.6833\n",
            "Epoch 66/200\n",
            "120/120 [==============================] - 0s 250us/step - loss: 0.6775 - acc: 0.6833\n",
            "Epoch 67/200\n",
            "120/120 [==============================] - 0s 265us/step - loss: 0.7273 - acc: 0.5750\n",
            "Epoch 68/200\n",
            "120/120 [==============================] - 0s 261us/step - loss: 0.7187 - acc: 0.5833\n",
            "Epoch 69/200\n",
            "120/120 [==============================] - 0s 250us/step - loss: 0.6528 - acc: 0.6250\n",
            "Epoch 70/200\n",
            "120/120 [==============================] - 0s 274us/step - loss: 0.6746 - acc: 0.6167\n",
            "Epoch 71/200\n",
            "120/120 [==============================] - 0s 259us/step - loss: 0.6451 - acc: 0.6917\n",
            "Epoch 72/200\n",
            "120/120 [==============================] - 0s 264us/step - loss: 0.7057 - acc: 0.5250\n",
            "Epoch 73/200\n",
            "120/120 [==============================] - 0s 265us/step - loss: 0.6416 - acc: 0.6417\n",
            "Epoch 74/200\n",
            "120/120 [==============================] - 0s 280us/step - loss: 0.6095 - acc: 0.7000\n",
            "Epoch 75/200\n",
            "120/120 [==============================] - 0s 258us/step - loss: 0.6387 - acc: 0.6167\n",
            "Epoch 76/200\n",
            "120/120 [==============================] - 0s 251us/step - loss: 0.6707 - acc: 0.6000\n",
            "Epoch 77/200\n",
            "120/120 [==============================] - 0s 288us/step - loss: 0.6203 - acc: 0.6667\n",
            "Epoch 78/200\n",
            "120/120 [==============================] - 0s 256us/step - loss: 0.6026 - acc: 0.7167\n",
            "Epoch 79/200\n",
            "120/120 [==============================] - 0s 274us/step - loss: 0.6684 - acc: 0.5917\n",
            "Epoch 80/200\n",
            "120/120 [==============================] - 0s 262us/step - loss: 0.6496 - acc: 0.5917\n",
            "Epoch 81/200\n",
            "120/120 [==============================] - 0s 253us/step - loss: 0.6092 - acc: 0.6500\n",
            "Epoch 82/200\n",
            "120/120 [==============================] - 0s 274us/step - loss: 0.5895 - acc: 0.6250\n",
            "Epoch 83/200\n",
            "120/120 [==============================] - 0s 253us/step - loss: 0.5980 - acc: 0.6667\n",
            "Epoch 84/200\n",
            "120/120 [==============================] - 0s 258us/step - loss: 0.6381 - acc: 0.6333\n",
            "Epoch 85/200\n",
            "120/120 [==============================] - 0s 255us/step - loss: 0.6785 - acc: 0.5750\n",
            "Epoch 86/200\n",
            "120/120 [==============================] - 0s 246us/step - loss: 0.6618 - acc: 0.6000\n",
            "Epoch 87/200\n",
            "120/120 [==============================] - 0s 295us/step - loss: 0.6188 - acc: 0.6333\n",
            "Epoch 88/200\n",
            "120/120 [==============================] - 0s 273us/step - loss: 0.6261 - acc: 0.6333\n",
            "Epoch 89/200\n",
            "120/120 [==============================] - 0s 276us/step - loss: 0.6028 - acc: 0.6333\n",
            "Epoch 90/200\n",
            "120/120 [==============================] - 0s 270us/step - loss: 0.6307 - acc: 0.6250\n",
            "Epoch 91/200\n",
            "120/120 [==============================] - 0s 264us/step - loss: 0.5941 - acc: 0.6500\n",
            "Epoch 92/200\n",
            "120/120 [==============================] - 0s 283us/step - loss: 0.5409 - acc: 0.6667\n",
            "Epoch 93/200\n",
            "120/120 [==============================] - 0s 275us/step - loss: 0.5932 - acc: 0.6583\n",
            "Epoch 94/200\n",
            "120/120 [==============================] - 0s 269us/step - loss: 0.6566 - acc: 0.5500\n",
            "Epoch 95/200\n",
            "120/120 [==============================] - 0s 272us/step - loss: 0.5552 - acc: 0.7167\n",
            "Epoch 96/200\n",
            "120/120 [==============================] - 0s 266us/step - loss: 0.5592 - acc: 0.6917\n",
            "Epoch 97/200\n",
            "120/120 [==============================] - 0s 270us/step - loss: 0.5983 - acc: 0.6167\n",
            "Epoch 98/200\n",
            "120/120 [==============================] - 0s 269us/step - loss: 0.6202 - acc: 0.6000\n",
            "Epoch 99/200\n",
            "120/120 [==============================] - 0s 294us/step - loss: 0.6109 - acc: 0.6417\n",
            "Epoch 100/200\n",
            "120/120 [==============================] - 0s 265us/step - loss: 0.6127 - acc: 0.6667\n",
            "Epoch 101/200\n",
            "120/120 [==============================] - 0s 239us/step - loss: 0.5856 - acc: 0.6667\n",
            "Epoch 102/200\n",
            "120/120 [==============================] - 0s 273us/step - loss: 0.5683 - acc: 0.6917\n",
            "Epoch 103/200\n",
            "120/120 [==============================] - 0s 345us/step - loss: 0.5654 - acc: 0.7167\n",
            "Epoch 104/200\n",
            "120/120 [==============================] - 0s 284us/step - loss: 0.6362 - acc: 0.6333\n",
            "Epoch 105/200\n",
            "120/120 [==============================] - 0s 268us/step - loss: 0.5782 - acc: 0.6333\n",
            "Epoch 106/200\n",
            "120/120 [==============================] - 0s 261us/step - loss: 0.5084 - acc: 0.7083\n",
            "Epoch 107/200\n",
            "120/120 [==============================] - 0s 250us/step - loss: 0.6115 - acc: 0.6167\n",
            "Epoch 108/200\n",
            "120/120 [==============================] - 0s 250us/step - loss: 0.4659 - acc: 0.7500\n",
            "Epoch 109/200\n",
            "120/120 [==============================] - 0s 244us/step - loss: 0.5894 - acc: 0.6417\n",
            "Epoch 110/200\n",
            "120/120 [==============================] - 0s 256us/step - loss: 0.4743 - acc: 0.7500\n",
            "Epoch 111/200\n",
            "120/120 [==============================] - 0s 256us/step - loss: 0.5759 - acc: 0.6333\n",
            "Epoch 112/200\n",
            "120/120 [==============================] - 0s 260us/step - loss: 0.5705 - acc: 0.6667\n",
            "Epoch 113/200\n",
            "120/120 [==============================] - 0s 263us/step - loss: 0.5404 - acc: 0.6750\n",
            "Epoch 114/200\n",
            "120/120 [==============================] - 0s 273us/step - loss: 0.5477 - acc: 0.6417\n",
            "Epoch 115/200\n",
            "120/120 [==============================] - 0s 252us/step - loss: 0.6141 - acc: 0.6250\n",
            "Epoch 116/200\n",
            "120/120 [==============================] - 0s 271us/step - loss: 0.6545 - acc: 0.6167\n",
            "Epoch 117/200\n",
            "120/120 [==============================] - 0s 294us/step - loss: 0.5440 - acc: 0.6750\n",
            "Epoch 118/200\n",
            "120/120 [==============================] - 0s 260us/step - loss: 0.5929 - acc: 0.6667\n",
            "Epoch 119/200\n",
            "120/120 [==============================] - 0s 237us/step - loss: 0.6193 - acc: 0.5917\n",
            "Epoch 120/200\n",
            "120/120 [==============================] - 0s 243us/step - loss: 0.5442 - acc: 0.6750\n",
            "Epoch 121/200\n",
            "120/120 [==============================] - 0s 270us/step - loss: 0.5432 - acc: 0.6917\n",
            "Epoch 122/200\n",
            "120/120 [==============================] - 0s 278us/step - loss: 0.6076 - acc: 0.6417\n",
            "Epoch 123/200\n",
            "120/120 [==============================] - 0s 249us/step - loss: 0.5736 - acc: 0.6833\n",
            "Epoch 124/200\n",
            "120/120 [==============================] - 0s 279us/step - loss: 0.5659 - acc: 0.7000\n",
            "Epoch 125/200\n",
            "120/120 [==============================] - 0s 263us/step - loss: 0.6370 - acc: 0.7000\n",
            "Epoch 126/200\n",
            "120/120 [==============================] - 0s 260us/step - loss: 0.5405 - acc: 0.7500\n",
            "Epoch 127/200\n",
            "120/120 [==============================] - 0s 346us/step - loss: 0.5428 - acc: 0.7583\n",
            "Epoch 128/200\n",
            "120/120 [==============================] - 0s 287us/step - loss: 0.5062 - acc: 0.7417\n",
            "Epoch 129/200\n",
            "120/120 [==============================] - 0s 286us/step - loss: 0.5315 - acc: 0.7333\n",
            "Epoch 130/200\n",
            "120/120 [==============================] - 0s 275us/step - loss: 0.5867 - acc: 0.7167\n",
            "Epoch 131/200\n",
            "120/120 [==============================] - 0s 266us/step - loss: 0.6141 - acc: 0.6333\n",
            "Epoch 132/200\n",
            "120/120 [==============================] - 0s 278us/step - loss: 0.5768 - acc: 0.7250\n",
            "Epoch 133/200\n",
            "120/120 [==============================] - 0s 278us/step - loss: 0.5047 - acc: 0.7583\n",
            "Epoch 134/200\n",
            "120/120 [==============================] - 0s 260us/step - loss: 0.6139 - acc: 0.7000\n",
            "Epoch 135/200\n",
            "120/120 [==============================] - 0s 278us/step - loss: 0.5442 - acc: 0.7000\n",
            "Epoch 136/200\n",
            "120/120 [==============================] - 0s 289us/step - loss: 0.4994 - acc: 0.7833\n",
            "Epoch 137/200\n",
            "120/120 [==============================] - 0s 281us/step - loss: 0.4495 - acc: 0.8250\n",
            "Epoch 138/200\n",
            "120/120 [==============================] - 0s 273us/step - loss: 0.5403 - acc: 0.7333\n",
            "Epoch 139/200\n",
            "120/120 [==============================] - 0s 273us/step - loss: 0.5911 - acc: 0.6750\n",
            "Epoch 140/200\n",
            "120/120 [==============================] - 0s 298us/step - loss: 0.4849 - acc: 0.7833\n",
            "Epoch 141/200\n",
            "120/120 [==============================] - 0s 330us/step - loss: 0.5319 - acc: 0.7333\n",
            "Epoch 142/200\n",
            "120/120 [==============================] - 0s 270us/step - loss: 0.5010 - acc: 0.7667\n",
            "Epoch 143/200\n",
            "120/120 [==============================] - 0s 291us/step - loss: 0.6294 - acc: 0.6750\n",
            "Epoch 144/200\n",
            "120/120 [==============================] - 0s 253us/step - loss: 0.4511 - acc: 0.8000\n",
            "Epoch 145/200\n",
            "120/120 [==============================] - 0s 263us/step - loss: 0.5670 - acc: 0.7167\n",
            "Epoch 146/200\n",
            "120/120 [==============================] - 0s 261us/step - loss: 0.4893 - acc: 0.7833\n",
            "Epoch 147/200\n",
            "120/120 [==============================] - 0s 274us/step - loss: 0.5854 - acc: 0.7083\n",
            "Epoch 148/200\n",
            "120/120 [==============================] - 0s 257us/step - loss: 0.4700 - acc: 0.7833\n",
            "Epoch 149/200\n",
            "120/120 [==============================] - 0s 288us/step - loss: 0.5640 - acc: 0.7000\n",
            "Epoch 150/200\n",
            "120/120 [==============================] - 0s 289us/step - loss: 0.5324 - acc: 0.7167\n",
            "Epoch 151/200\n",
            "120/120 [==============================] - 0s 277us/step - loss: 0.5564 - acc: 0.7000\n",
            "Epoch 152/200\n",
            "120/120 [==============================] - 0s 271us/step - loss: 0.5332 - acc: 0.7000\n",
            "Epoch 153/200\n",
            "120/120 [==============================] - 0s 289us/step - loss: 0.4645 - acc: 0.7667\n",
            "Epoch 154/200\n",
            "120/120 [==============================] - 0s 267us/step - loss: 0.5462 - acc: 0.7167\n",
            "Epoch 155/200\n",
            "120/120 [==============================] - 0s 279us/step - loss: 0.4811 - acc: 0.8333\n",
            "Epoch 156/200\n",
            "120/120 [==============================] - 0s 268us/step - loss: 0.5306 - acc: 0.8000\n",
            "Epoch 157/200\n",
            "120/120 [==============================] - 0s 263us/step - loss: 0.5821 - acc: 0.6667\n",
            "Epoch 158/200\n",
            "120/120 [==============================] - 0s 247us/step - loss: 0.5175 - acc: 0.7583\n",
            "Epoch 159/200\n",
            "120/120 [==============================] - 0s 267us/step - loss: 0.4891 - acc: 0.8083\n",
            "Epoch 160/200\n",
            "120/120 [==============================] - 0s 253us/step - loss: 0.5388 - acc: 0.7583\n",
            "Epoch 161/200\n",
            "120/120 [==============================] - 0s 290us/step - loss: 0.5174 - acc: 0.7167\n",
            "Epoch 162/200\n",
            "120/120 [==============================] - 0s 252us/step - loss: 0.4199 - acc: 0.7833\n",
            "Epoch 163/200\n",
            "120/120 [==============================] - 0s 255us/step - loss: 0.5336 - acc: 0.7000\n",
            "Epoch 164/200\n",
            "120/120 [==============================] - 0s 292us/step - loss: 0.5838 - acc: 0.6667\n",
            "Epoch 165/200\n",
            "120/120 [==============================] - 0s 249us/step - loss: 0.4909 - acc: 0.7833\n",
            "Epoch 166/200\n",
            "120/120 [==============================] - 0s 273us/step - loss: 0.5162 - acc: 0.7500\n",
            "Epoch 167/200\n",
            "120/120 [==============================] - 0s 275us/step - loss: 0.5545 - acc: 0.6917\n",
            "Epoch 168/200\n",
            "120/120 [==============================] - 0s 263us/step - loss: 0.5126 - acc: 0.7583\n",
            "Epoch 169/200\n",
            "120/120 [==============================] - 0s 262us/step - loss: 0.5205 - acc: 0.7167\n",
            "Epoch 170/200\n",
            "120/120 [==============================] - 0s 263us/step - loss: 0.5455 - acc: 0.7333\n",
            "Epoch 171/200\n",
            "120/120 [==============================] - 0s 285us/step - loss: 0.5434 - acc: 0.7333\n",
            "Epoch 172/200\n",
            "120/120 [==============================] - 0s 281us/step - loss: 0.4991 - acc: 0.7667\n",
            "Epoch 173/200\n",
            "120/120 [==============================] - 0s 287us/step - loss: 0.4588 - acc: 0.8000\n",
            "Epoch 174/200\n",
            "120/120 [==============================] - 0s 252us/step - loss: 0.4833 - acc: 0.7750\n",
            "Epoch 175/200\n",
            "120/120 [==============================] - 0s 306us/step - loss: 0.4960 - acc: 0.7583\n",
            "Epoch 176/200\n",
            "120/120 [==============================] - 0s 277us/step - loss: 0.5146 - acc: 0.7583\n",
            "Epoch 177/200\n",
            "120/120 [==============================] - 0s 238us/step - loss: 0.5296 - acc: 0.7500\n",
            "Epoch 178/200\n",
            "120/120 [==============================] - 0s 253us/step - loss: 0.5039 - acc: 0.7750\n",
            "Epoch 179/200\n",
            "120/120 [==============================] - 0s 268us/step - loss: 0.5005 - acc: 0.7750\n",
            "Epoch 180/200\n",
            "120/120 [==============================] - 0s 244us/step - loss: 0.4744 - acc: 0.7583\n",
            "Epoch 181/200\n",
            "120/120 [==============================] - 0s 240us/step - loss: 0.5560 - acc: 0.7167\n",
            "Epoch 182/200\n",
            "120/120 [==============================] - 0s 245us/step - loss: 0.5007 - acc: 0.7583\n",
            "Epoch 183/200\n",
            "120/120 [==============================] - 0s 285us/step - loss: 0.5437 - acc: 0.7333\n",
            "Epoch 184/200\n",
            "120/120 [==============================] - 0s 260us/step - loss: 0.4816 - acc: 0.7583\n",
            "Epoch 185/200\n",
            "120/120 [==============================] - 0s 263us/step - loss: 0.4989 - acc: 0.7583\n",
            "Epoch 186/200\n",
            "120/120 [==============================] - 0s 278us/step - loss: 0.5110 - acc: 0.7250\n",
            "Epoch 187/200\n",
            "120/120 [==============================] - 0s 240us/step - loss: 0.5513 - acc: 0.7500\n",
            "Epoch 188/200\n",
            "120/120 [==============================] - 0s 286us/step - loss: 0.5164 - acc: 0.7833\n",
            "Epoch 189/200\n",
            "120/120 [==============================] - 0s 260us/step - loss: 0.5133 - acc: 0.7583\n",
            "Epoch 190/200\n",
            "120/120 [==============================] - 0s 246us/step - loss: 0.5180 - acc: 0.7333\n",
            "Epoch 191/200\n",
            "120/120 [==============================] - 0s 274us/step - loss: 0.5484 - acc: 0.7333\n",
            "Epoch 192/200\n",
            "120/120 [==============================] - 0s 239us/step - loss: 0.5456 - acc: 0.7167\n",
            "Epoch 193/200\n",
            "120/120 [==============================] - 0s 262us/step - loss: 0.4842 - acc: 0.8167\n",
            "Epoch 194/200\n",
            "120/120 [==============================] - 0s 255us/step - loss: 0.5473 - acc: 0.7417\n",
            "Epoch 195/200\n",
            "120/120 [==============================] - 0s 292us/step - loss: 0.4850 - acc: 0.7917\n",
            "Epoch 196/200\n",
            "120/120 [==============================] - 0s 282us/step - loss: 0.5535 - acc: 0.7417\n",
            "Epoch 197/200\n",
            "120/120 [==============================] - 0s 274us/step - loss: 0.6022 - acc: 0.7417\n",
            "Epoch 198/200\n",
            "120/120 [==============================] - 0s 288us/step - loss: 0.4690 - acc: 0.7750\n",
            "Epoch 199/200\n",
            "120/120 [==============================] - 0s 263us/step - loss: 0.5076 - acc: 0.7667\n",
            "Epoch 200/200\n",
            "120/120 [==============================] - 0s 238us/step - loss: 0.5392 - acc: 0.7583\n"
          ],
          "name": "stdout"
        },
        {
          "output_type": "execute_result",
          "data": {
            "text/plain": [
              "<keras.callbacks.History at 0x7fa320e55e80>"
            ]
          },
          "metadata": {
            "tags": []
          },
          "execution_count": 10
        }
      ]
    },
    {
      "cell_type": "markdown",
      "metadata": {
        "id": "3M0TPjePov3q",
        "colab_type": "text"
      },
      "source": [
        "# <div style=\"direction:rtl;text-align:right;font-family:B Lotus, B Nazanin, Tahoma\">سوال 4:</div>\n",
        "<div style=\"direction:rtl;text-align:right;font-family:Tahoma\">\n",
        "مدل را روی داده های test ارزیابی کنید.\n",
        "<br>\n",
        "<b>راهنمایی: </b>\n",
        "از تابع model.evaluate استفاده کنید.\n",
        "</div>"
      ]
    },
    {
      "cell_type": "code",
      "metadata": {
        "id": "OAFGWjnnov3r",
        "colab_type": "code",
        "colab": {
          "base_uri": "https://localhost:8080/",
          "height": 68
        },
        "outputId": "bd76ff4f-0bac-4815-9943-8b57ce9bb7b7"
      },
      "source": [
        "# Test on unseen data\n",
        "results = model.evaluate(test_x, test_y)\n",
        "\n",
        "print('Final test set loss: {:4f}'.format(results[0]))\n",
        "print('Final test set accuracy: {:4f}'.format(results[1]))"
      ],
      "execution_count": 11,
      "outputs": [
        {
          "output_type": "stream",
          "text": [
            "\r30/30 [==============================] - 0s 1ms/step\n",
            "Final test set loss: 0.147812\n",
            "Final test set accuracy: 1.000000\n"
          ],
          "name": "stdout"
        }
      ]
    },
    {
      "cell_type": "markdown",
      "metadata": {
        "id": "ftFJMMXOov3v",
        "colab_type": "text"
      },
      "source": [
        "<div class=\"alert alert-block alert-info\">\n",
        "<div style=\"direction:rtl;text-align:right;font-family:B Lotus, B Nazanin, Tahoma\"> دوره مقدماتی یادگیری عمیق<br>علیرضا اخوان پور<br>پنج شنبه، ۱۸ و ۲۵ بهمن ۱۳۹۷<br>\n",
        "</div>\n",
        "<a href=\"http://class.vision\">Class.Vision</a> - <a href=\"http://AkhavanPour.ir\">AkhavanPour.ir</a> - <a href=\"https://github.com/Alireza-Akhavan/\">GitHub</a>\n",
        "\n",
        "</div>"
      ]
    }
  ]
}